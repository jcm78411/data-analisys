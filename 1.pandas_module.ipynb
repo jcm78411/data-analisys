{
 "cells": [
  {
   "cell_type": "code",
   "execution_count": null,
   "id": "612f8e73",
   "metadata": {},
   "outputs": [],
   "source": [
    "# !pip freeze > requirements.txt"
   ]
  },
  {
   "cell_type": "markdown",
   "id": "65776466",
   "metadata": {},
   "source": [
    "**VIDEO 1, 2, 3: INTRODUCCION, INSTALACION DE LIBRERIAS Y EJEMPLO BASICO CON PANDAS**"
   ]
  },
  {
   "cell_type": "code",
   "execution_count": null,
   "id": "8e26ee62",
   "metadata": {
    "slideshow": {
     "slide_type": "slide"
    }
   },
   "outputs": [],
   "source": [
    "import pandas as pd\n",
    "import numpy as np\n",
    "import os"
   ]
  },
  {
   "cell_type": "code",
   "execution_count": null,
   "id": "db4e6a42",
   "metadata": {},
   "outputs": [],
   "source": [
    "numeros = [1, 2, 3, 4, 5]\n",
    "serie = pd.Series(numeros)\n",
    "serie, type(serie)"
   ]
  },
  {
   "cell_type": "code",
   "execution_count": null,
   "id": "8bf3ad5f",
   "metadata": {},
   "outputs": [],
   "source": [
    "data = {\n",
    "    \"Nombre\": [\n",
    "        \"Juan\", \"Ana\", \"Pedro\", \"Luisa\", \"Carlos\", \"María\", \"Javier\", \"Laura\", \"David\", \"Sara\",\n",
    "        \"Andrés\", \"Elena\", \"Miguel\", \"Clara\", \"Rafael\", \"Sofía\", \"Hugo\", \"Paula\", \"Daniel\", \"Irene\"\n",
    "    ],\n",
    "    \"Apellido\": [\n",
    "        \"Gómez\", \"Martínez\", \"López\", \"Ruiz\", \"Hernández\", \"Díaz\", \"Sánchez\", \"Ramírez\", \"Torres\", \"Flores\",\n",
    "        \"Vargas\", \"Castillo\", \"Morales\", \"Romero\", \"Ortega\", \"Silva\", \"Mendoza\", \"Navarro\", \"Cortés\", \"Delgado\"\n",
    "    ],\n",
    "    \"Edad\": [\n",
    "        28, 24, 35, 32, 30, 29, 31, 25, 27, 26,\n",
    "        22, 34, 33, 21, 36, 23, 38, 20, 37, 19\n",
    "    ],\n",
    "    \"Ciudad\": [\n",
    "        \"Madrid\", \"Barcelona\", \"Valencia\", \"Sevilla\", \"Bilbao\", \"Zaragoza\", \"Málaga\", \"Murcia\", \"Palma\", \"Valladolid\",\n",
    "        \"Gijón\", \"Alicante\", \"Córdoba\", \"Vigo\", \"Donostia\", \"Granada\", \"Oviedo\", \"Tarragona\", \"A Coruña\", \"Santander\"\n",
    "    ]\n",
    "}"
   ]
  },
  {
   "cell_type": "code",
   "execution_count": null,
   "id": "2407e7ec",
   "metadata": {},
   "outputs": [],
   "source": [
    "df = pd.DataFrame(data)\n",
    "df.head(5)"
   ]
  },
  {
   "cell_type": "markdown",
   "id": "605bd8af",
   "metadata": {},
   "source": [
    "**VIDEO 4: CREACION E IMPORTACION DE UN DATAFRAME**"
   ]
  },
  {
   "cell_type": "code",
   "execution_count": null,
   "id": "fe2b5252",
   "metadata": {},
   "outputs": [],
   "source": [
    "#EXPORTANDO A CSV\n",
    "df.to_csv(\"data.csv\", index=False)"
   ]
  },
  {
   "cell_type": "code",
   "execution_count": null,
   "id": "dde8d201",
   "metadata": {},
   "outputs": [],
   "source": [
    "#IMPORTANDO CSV\n",
    "df_importado = pd.read_csv(\"data.csv\")\n",
    "# df_importado"
   ]
  },
  {
   "cell_type": "markdown",
   "id": "cc541a32",
   "metadata": {},
   "source": [
    "**VIDEO 5: FILTRADO Y SELECCION DE DATOS**"
   ]
  },
  {
   "cell_type": "code",
   "execution_count": null,
   "id": "87d7937c",
   "metadata": {},
   "outputs": [],
   "source": [
    "nombres = df[\"Nombre\"]\n",
    "# nombres, type(nombres)"
   ]
  },
  {
   "cell_type": "code",
   "execution_count": null,
   "id": "a57aea8f",
   "metadata": {},
   "outputs": [],
   "source": [
    "x_cols = [\"Nombre\", \"Edad\"]\n",
    "y_cols = [\"Ciudad\"]\n",
    "df_x = df[x_cols]\n",
    "df_y = df[y_cols]\n",
    "# df_x\n",
    "# Filtrando datos"
   ]
  },
  {
   "cell_type": "code",
   "execution_count": null,
   "id": "31a9d356",
   "metadata": {},
   "outputs": [],
   "source": [
    "fila = df.loc[0]\n",
    "fila, type(fila)"
   ]
  },
  {
   "cell_type": "code",
   "execution_count": null,
   "id": "9c3b0484",
   "metadata": {},
   "outputs": [],
   "source": [
    "fila_condicional = df[df[\"Edad\"] > 30]\n",
    "fila_condicional, type(fila_condicional)"
   ]
  },
  {
   "cell_type": "code",
   "execution_count": null,
   "id": "bec3e227",
   "metadata": {},
   "outputs": [],
   "source": [
    "filtro = (df[\"Edad\"] > 30) & (df[\"Ciudad\"].str.startswith(\"S\"))\n",
    "df[filtro], type(df[filtro])"
   ]
  },
  {
   "cell_type": "code",
   "execution_count": null,
   "id": "1d6d6c80",
   "metadata": {},
   "outputs": [],
   "source": [
    "filtro = (df[\"Edad\"] > 30) & (df[\"Ciudad\"].str.startswith(\"S\"))\n",
    "resultado = df[filtro]\n",
    "resultado, type(resultado)"
   ]
  },
  {
   "cell_type": "code",
   "execution_count": null,
   "id": "f95ed402",
   "metadata": {},
   "outputs": [],
   "source": [
    "# Modificando datos\n",
    "df[df[\"Nombre\"].isin([\"Juan\", \"Ana\"])]"
   ]
  },
  {
   "cell_type": "code",
   "execution_count": null,
   "id": "5be632a5",
   "metadata": {},
   "outputs": [],
   "source": [
    "def longitud_nombre(nombre, tam):\n",
    "    return len(nombre) == tam\n",
    "\n",
    "df[df[\"Nombre\"].apply(longitud_nombre, tam=3)]"
   ]
  },
  {
   "cell_type": "code",
   "execution_count": null,
   "id": "0d62af40",
   "metadata": {},
   "outputs": [],
   "source": [
    "#filtrar edades entre 20 y 30\n",
    "filtro = (df[\"Edad\"] >= 20) & (df[\"Edad\"] <= 30)\n",
    "resultado = df[filtro]\n",
    "resultado, type(resultado)"
   ]
  },
  {
   "cell_type": "code",
   "execution_count": null,
   "id": "a2597fa3",
   "metadata": {},
   "outputs": [],
   "source": [
    "# filtrar edades entre 20 y 30 usando el método between\n",
    "filtro = df[\"Edad\"].between(20, 30)\n",
    "resultado = df[filtro]\n",
    "resultado, type(resultado)"
   ]
  },
  {
   "cell_type": "markdown",
   "id": "65a9ab82",
   "metadata": {},
   "source": [
    "**VIDEO 6: LIMPIEZA, MANIPULACION Y GENERACION DE DATOS EN UN DATAFRAME**"
   ]
  },
  {
   "cell_type": "code",
   "execution_count": null,
   "id": "efacff14",
   "metadata": {},
   "outputs": [],
   "source": [
    "data_to_clean = {\n",
    "    \"Nombre\": [\n",
    "        \"Juan\", None, \"Pedro\", None, \"Carlos\", \"María\", None, \"Laura\", \"David\", \"Sara\",\n",
    "        \"Andrés\", \"Elena\", \"Miguel\", None, \"Rafael\", \"Sofía\", \"Hugo\", \"Paula\", \"Daniel\", \"Irene\"\n",
    "    ],\n",
    "    \"Apellido\": [\n",
    "        \"Gómez\", \"Martínez\", \"López\", \"Ruiz\", \"Hernández\", \"Díaz\", \"Sánchez\", None, \"Torres\", \"Flores\",\n",
    "        \"Vargas\", \"Castillo\", None, \"Romero\", \"Ortega\", \"Silva\", \"Mendoza\", \"Navarro\", \"Cortés\", \"Delgado\"\n",
    "    ],\n",
    "    \"Edad\": [\n",
    "        28, 24, 35, np.nan, 30, 29, 31, 25, np.nan, 26,\n",
    "        22, 34, np.nan, 21, 36, 23, np.nan, 20, 37, np.nan\n",
    "    ],\n",
    "    \"Ciudad\": [\n",
    "        \"Madrid\", \"Barcelona\", \"Valencia\", None, \"Bilbao\", \"Zaragoza\", \"Málaga\", \"Murcia\", \"Palma\", \"Valladolid\",\n",
    "        None, \"Alicante\", \"Córdoba\", \"Vigo\", \"Donostia\", \"Granada\", \"Oviedo\", None, \"A Coruña\", \"Santander\"\n",
    "    ]\n",
    "}\n",
    "\n",
    "df_to_clean = pd.DataFrame(data_to_clean)\n",
    "df_to_clean.head(5), type(df_to_clean)"
   ]
  },
  {
   "cell_type": "code",
   "execution_count": null,
   "id": "c8d1bd47",
   "metadata": {},
   "outputs": [],
   "source": [
    "# Rellenar valores nulos con un valor específico\n",
    "df_filled = df_to_clean.fillna(\n",
    "    {\n",
    "        \"Nombre\": \"Desconocido\",\n",
    "        \"Apellido\": \"Desconocido\",\n",
    "        \"Edad\": df_to_clean[\"Edad\"].median(),\n",
    "        \"Ciudad\": \"Desconocida\"\n",
    "    }\n",
    ")\n",
    "\n",
    "df_filled.head(5)"
   ]
  },
  {
   "cell_type": "code",
   "execution_count": null,
   "id": "bd260723",
   "metadata": {},
   "outputs": [],
   "source": [
    "#usar el metodo dropna() para eliminar filas con valores nulos\n",
    "df_dropped = df_to_clean.dropna()\n",
    "df_dropped.head(5)"
   ]
  },
  {
   "cell_type": "code",
   "execution_count": null,
   "id": "48c40a24",
   "metadata": {},
   "outputs": [],
   "source": [
    "#reemplazar valores especificos de alguna columna\n",
    "df_replaced = df_to_clean.replace({\n",
    "    \"Ciudad\" : {None: \"No definida\"}\n",
    "})\n",
    "df_replaced.head(5)"
   ]
  },
  {
   "cell_type": "code",
   "execution_count": null,
   "id": "7abca593",
   "metadata": {},
   "outputs": [],
   "source": [
    "#interpolar valores nulos\n",
    "df_interpolated = df_to_clean.copy()\n",
    "df_interpolated[\"Edad\"] = df_interpolated[\"Edad\"].interpolate()\n",
    "df_interpolated.head(5)"
   ]
  },
  {
   "cell_type": "code",
   "execution_count": null,
   "id": "97f87cd6",
   "metadata": {},
   "outputs": [],
   "source": [
    "#valores duplicados\n",
    "data = {\n",
    "    \"Nombre\": [\n",
    "        \"Juan\", \"Ana\", \"Pedro\", \"Juan\", \"Carlos\", \"María\", \"Pedro\", \"Laura\", \"David\", \"Sara\",\n",
    "        \"Andrés\", \"Elena\", \"Miguel\", \"Ana\", \"Rafael\", \"Sofía\", \"Hugo\", \"Paula\", \"Daniel\", \"Irene\"\n",
    "    ],\n",
    "    \"Apellido\": [\n",
    "        \"Gómez\", \"Martínez\", \"López\", \"Gómez\", \"Hernández\", \"Díaz\", \"López\", \"Ramírez\", \"Torres\", \"Flores\",\n",
    "        \"Vargas\", \"Castillo\", \"Morales\", \"Martínez\", \"Ortega\", \"Silva\", \"Mendoza\", \"Navarro\", \"Cortés\", \"Delgado\"\n",
    "    ],\n",
    "    \"Edad\": [\n",
    "        28, 24, 35, 28, 30, 29, 35, 25, 27, 26,\n",
    "        22, 34, 33, 24, 36, 23, 38, 20, 37, 19\n",
    "    ],\n",
    "    \"Ciudad\": [\n",
    "        \"Madrid\", \"Barcelona\", \"Valencia\", \"Madrid\", \"Bilbao\", \"Zaragoza\", \"Valencia\", \"Murcia\", \"Palma\", \"Valladolid\",\n",
    "        \"Gijón\", \"Alicante\", \"Córdoba\", \"Barcelona\", \"Donostia\", \"Granada\", \"Oviedo\", \"Tarragona\", \"A Coruña\", \"Santander\"\n",
    "    ]\n",
    "}\n",
    "df_duplicates = pd.DataFrame(data)\n",
    "df_duplicates.head(5), type(df_duplicates)"
   ]
  },
  {
   "cell_type": "code",
   "execution_count": null,
   "id": "7803ff68",
   "metadata": {},
   "outputs": [],
   "source": [
    "#borra duplicados\n",
    "df_duplicates_dropped = df_duplicates.drop_duplicates()\n",
    "df_duplicates_dropped.head(5)"
   ]
  },
  {
   "cell_type": "code",
   "execution_count": null,
   "id": "0abbd758",
   "metadata": {},
   "outputs": [],
   "source": [
    "# renombrar columnas\n",
    "df_renamed = df_duplicates.rename(\n",
    "    columns={\"Nombre\": \"Name\", \"Apellido\": \"Surname\", \"Edad\": \"Age\", \"Ciudad\": \"City\"}\n",
    ")\n",
    "df_renamed.head(5)"
   ]
  },
  {
   "cell_type": "code",
   "execution_count": null,
   "id": "d622fe21",
   "metadata": {},
   "outputs": [],
   "source": [
    "#ordenar columnas\n",
    "df_sorted = df_duplicates.sort_values(by=[\"Edad\", \"Nombre\"], ascending=[True, False])\n",
    "df_sorted.head(5)"
   ]
  },
  {
   "cell_type": "code",
   "execution_count": null,
   "id": "cd8151d8",
   "metadata": {},
   "outputs": [],
   "source": [
    "#OTRA FORMA DE ORDENAR\n",
    "sorted_columns = [ \"Apellido\", \"Nombre\", \"Edad\", \"Ciudad\"]\n",
    "df_sorted_columns = df_duplicates[sorted_columns]\n",
    "# df_sorted_columns = df_sorted_columns.sort_values(by=[\"Edad\", \"Nombre\"], ascending=[True, False])\n",
    "df_sorted_columns.head(5)"
   ]
  },
  {
   "cell_type": "code",
   "execution_count": null,
   "id": "a15b5972",
   "metadata": {},
   "outputs": [],
   "source": [
    "#transformacion de datos\n",
    "def potencia_cuadrado(x):\n",
    "    return x ** 2\n",
    "\n",
    "df[\"Edad_al_cuadrado\"] = df[\"Edad\"].apply(potencia_cuadrado)\n",
    "# df[\"Edad_al_cuadrado\"] = df[\"Edad\"].apply(lambda x: x ** 2)\n",
    "df.head(5)"
   ]
  },
  {
   "cell_type": "markdown",
   "id": "d67f2045",
   "metadata": {},
   "source": [
    "**VIDEO 7: AÑADIR Y AGRUPAR DATOS CON PANDAS**"
   ]
  },
  {
   "cell_type": "code",
   "execution_count": null,
   "id": "9ac67404",
   "metadata": {},
   "outputs": [],
   "source": [
    "data_payment = {\n",
    "    \"Nombre\": [\n",
    "        \"Juan\", \"Ana\", \"Pedro\", \"Luisa\", \"Carlos\", \"María\", \"Javier\", \"Laura\", \"David\", \"Sara\",\n",
    "        \"Andrés\", \"Elena\", \"Miguel\", \"Clara\", \"Rafael\", \"Sofía\", \"Hugo\", \"Paula\", \"Daniel\", \"Irene\"\n",
    "    ],\n",
    "    \"Apellido\": [\n",
    "        \"Gómez\", \"Martínez\", \"López\", \"Ruiz\", \"Hernández\", \"Díaz\", \"Sánchez\", \"Ramírez\", \"Torres\", \"Flores\",\n",
    "        \"Vargas\", \"Castillo\", \"Morales\", \"Romero\", \"Ortega\", \"Silva\", \"Mendoza\", \"Navarro\", \"Cortés\", \"Delgado\"\n",
    "    ],\n",
    "    \"Edad\": [\n",
    "        28, 24, 35, 32, 30, 29, 31, 25, 27, 26,\n",
    "        22, 34, 33, 21, 36, 23, 38, 20, 37, 19\n",
    "    ],\n",
    "    \"Ciudad\": [\n",
    "        \"Madrid\", \"Barcelona\", \"Valencia\", \"Sevilla\", \"Bilbao\", \"Zaragoza\", \"Málaga\", \"Murcia\", \"Palma\", \"Valladolid\",\n",
    "        \"Gijón\", \"Alicante\", \"Córdoba\", \"Vigo\", \"Donostia\", \"Granada\", \"Oviedo\", \"Tarragona\", \"A Coruña\", \"Santander\"\n",
    "    ],\n",
    "    \"Salario\": [\n",
    "        30000, 32000, 35000, 28000, 40000, 31000, 33000, 29000, 37000, 36000,\n",
    "        34000, 38000, 39000, 27000, 41000, 42000, 43000, 44000, 45000, 46000\n",
    "    ],\n",
    "    \"Horas_trabajadas\": [\n",
    "        40, 38, 42, 36, 45, 39, 41, 37, 44, 43,\n",
    "        35, 46, 47, 34, 48, 49, 50, 33, 51, 32\n",
    "    ],\n",
    "}\n",
    "df_payment = pd.DataFrame(data_payment)\n",
    "df_payment.head(5)"
   ]
  },
  {
   "cell_type": "code",
   "execution_count": null,
   "id": "25f704d2",
   "metadata": {},
   "outputs": [],
   "source": [
    "#agrupar datos por ciudad\n",
    "group = df_payment.groupby(\"Ciudad\")\n",
    "group.groups"
   ]
  },
  {
   "cell_type": "code",
   "execution_count": null,
   "id": "0345602e",
   "metadata": {},
   "outputs": [],
   "source": [
    "df_payment_grouped_by_edad = df_payment.groupby(\"Edad\")[[\"Salario\", \"Horas_trabajadas\"]].agg([\"mean\", \"sum\", \"count\"])\n",
    "df_payment_grouped_by_edad.head(5)"
   ]
  },
  {
   "cell_type": "code",
   "execution_count": null,
   "id": "05be44b3",
   "metadata": {},
   "outputs": [],
   "source": [
    "df_payment_grouped_by_nombre_apellido = df_payment.groupby([\"Nombre\", \"Apellido\"])[\"Horas_trabajadas\"].sum()\n",
    "df_payment_grouped_by_nombre_apellido.head(5)"
   ]
  },
  {
   "cell_type": "code",
   "execution_count": null,
   "id": "9a0c4c0f",
   "metadata": {},
   "outputs": [],
   "source": [
    "df_payment_grouped_by_ciudad_salario = df_payment.groupby(\"Ciudad\")[\"Salario\"].mean()\n",
    "df_payment_grouped_by_ciudad_salario.head(5)\n"
   ]
  },
  {
   "cell_type": "markdown",
   "id": "b1d48a94",
   "metadata": {},
   "source": [
    "**VIDEO 8: AGREGACION DE DATOS**"
   ]
  },
  {
   "cell_type": "code",
   "execution_count": null,
   "id": "c5e79674",
   "metadata": {},
   "outputs": [],
   "source": [
    "group = df_payment.groupby(\"Nombre\")\n",
    "\n",
    "aggregated_data = group.agg({\n",
    "    \"Horas_trabajadas\": \"sum\",\n",
    "    \"Salario\": \"sum\"\n",
    "})\n",
    "\n",
    "aggregated_data.head(5)\n",
    "\n",
    "#o tambien\n",
    "# aggregated_data = df_payment.groupby(\"Nombre\")[[\"Horas_trabajadas\", \"Salario\"]].sum()\n",
    "# aggregated_data.head(5)\n"
   ]
  },
  {
   "cell_type": "code",
   "execution_count": null,
   "id": "a4fcfbdc",
   "metadata": {},
   "outputs": [],
   "source": [
    "#definir una funcion de agracion personalizada\n",
    "def custom_aggregation(x):\n",
    "    # return x.max() - x.min()\n",
    "    # return x.mean() - x.std()\n",
    "    # return x.mean() + x.std()\n",
    "    return x.max() + x.min()\n",
    "\n",
    "#aplicar la funcion de agregacion personalizada\n",
    "grouped_custom = group.agg({\n",
    "    \"Horas_trabajadas\": custom_aggregation,\n",
    "    \"Salario\": custom_aggregation\n",
    "})\n",
    "\n",
    "grouped_custom.head(5)"
   ]
  },
  {
   "cell_type": "markdown",
   "id": "67aeaf2d",
   "metadata": {},
   "source": [
    "**VIDEO 9: AGREGACION Y AGRUPACION MULTINIVEL**"
   ]
  },
  {
   "cell_type": "code",
   "execution_count": null,
   "id": "c6c4e080",
   "metadata": {},
   "outputs": [],
   "source": [
    "data_payment[\"Price_category\"] = pd.cut(\n",
    "    data_payment[\"Salario\"],\n",
    "    bins=[0, 30000, 40000, np.inf],\n",
    "    labels=[\"Bajo\", \"Medio\", \"Alto\"]\n",
    ")\n",
    "df_cat = pd.DataFrame(data_payment)\n",
    "df_cat = df_cat.dropna(subset=[\"Price_category\"])\n",
    "df_cat.head(5)"
   ]
  },
  {
   "cell_type": "code",
   "execution_count": null,
   "id": "9f7cf931",
   "metadata": {},
   "outputs": [],
   "source": [
    "#agrupar datos por salario y horas trabajadas\n",
    "multi_group = df_cat.groupby([\"Price_category\", \"Horas_trabajadas\"], observed=True)\n",
    "multi_group.groups"
   ]
  },
  {
   "cell_type": "code",
   "execution_count": null,
   "id": "da161966",
   "metadata": {},
   "outputs": [],
   "source": [
    "#calcular la media de edad, salario y horas trabajadas por categoria y edad\n",
    "agg_data_multi = multi_group.agg({\n",
    "    \"Edad\": \"mean\",\n",
    "    \"Salario\": \"mean\",\n",
    "    \"Horas_trabajadas\": \"mean\"\n",
    "})\n",
    "\n",
    "agg_data_multi.head(5)"
   ]
  },
  {
   "cell_type": "markdown",
   "id": "0f4d5bb0",
   "metadata": {},
   "source": [
    "**VIDEO 10: AÑADIR NUEVOS DATOS A UN DATAFRAME CON PANDAS**"
   ]
  },
  {
   "cell_type": "code",
   "execution_count": null,
   "id": "88f19bd9",
   "metadata": {},
   "outputs": [],
   "source": [
    "#AGREGAR UNA NUEVA COLUMNA\n",
    "df_payment[\"Salario_anual\"] = df_payment[\"Salario\"] * 12\n",
    "df_payment.head(5)"
   ]
  },
  {
   "cell_type": "code",
   "execution_count": null,
   "id": "7778776e",
   "metadata": {},
   "outputs": [],
   "source": [
    "#AÑADIR UNA NUEVA FILA\n",
    "new_row = pd.Series({\n",
    "    \"Nombre\": \"Mario\",\n",
    "    \"Apellido\": \"Hernández\",\n",
    "    \"Edad\": 30,\n",
    "    \"Ciudad\": \"Valencia\",\n",
    "    \"Salario\": 50000,\n",
    "    \"Horas_trabajadas\": 43\n",
    "})\n",
    "\n",
    "df_payment = pd.concat([df_payment, new_row.to_frame().T], ignore_index=True)\n",
    "df_payment[\"Salario_anual\"] = df_payment[\"Salario\"] * 12\n",
    "df_payment"
   ]
  },
  {
   "cell_type": "markdown",
   "id": "88c8957c",
   "metadata": {},
   "source": [
    "**VIDEO 11: COMBINACION DE DATAFRAMES**"
   ]
  },
  {
   "cell_type": "code",
   "execution_count": null,
   "id": "5b422a95",
   "metadata": {},
   "outputs": [],
   "source": [
    "data_departure = {\n",
    "    \"Nombre\": [\n",
    "        \"Juan\", \"Ana\", \"Pedro\", \"Luisa\", \"Carlos\",\n",
    "        \"María\", \"Javier\", \"Laura\", \"David\", \"Sara\"\n",
    "    ],\n",
    "    \"Departamento\": [\n",
    "        \"Ventas\", \"Recursos Humanos\", \"Marketing\", \"Finanzas\", \"IT\",\n",
    "        \"Contabilidad\", \"Operaciones\", \"Legal\", \"Logística\", \"Compras\"\n",
    "    ],\n",
    "    \"Turno\": [\n",
    "        \"Mañana\", \"Tarde\", \"Mañana\", \"Noche\", \"Mañana\",\n",
    "        \"Tarde\", \"Noche\", \"Mañana\", \"Tarde\", \"Noche\"\n",
    "    ]\n",
    "}\n",
    "df_departure = pd.DataFrame(data_departure)\n",
    "df_departure.head(5)"
   ]
  },
  {
   "cell_type": "code",
   "execution_count": null,
   "id": "38ef4264",
   "metadata": {},
   "outputs": [],
   "source": [
    "data_employees = {\n",
    "    \"Nombre\": [\"Tomás\", \"Eva\", \"Noelia\", \"Mariano\", \"Lucía\"],\n",
    "    \"Apellido\": [\"Pérez\", \"Alonso\", \"Fuentes\", \"Ibáñez\", \"Santos\"],\n",
    "    \"Edad\": [27, 29, 26, 28, 30],\n",
    "    \"Ciudad\": [\"Madrid\", \"Granada\", \"Murcia\", \"Barcelona\", \"Sevilla\"],\n",
    "    \"Salario\": [34000, 37000, 36000, 35000, 39000],\n",
    "    \"Horas_trabajadas\": [40, 42, 38, 39, 41]\n",
    "}\n",
    "df_nuevos_empleados = pd.DataFrame(data_employees)\n",
    "df_nuevos_empleados[\"Salario_anual\"] = df_nuevos_empleados[\"Salario\"] * 12\n",
    "df_nuevos_empleados.head(5)"
   ]
  },
  {
   "cell_type": "code",
   "execution_count": null,
   "id": "9a9929b6",
   "metadata": {},
   "outputs": [],
   "source": [
    "#COMBINACION DE DATAFRAMES POR FILAS\n",
    "data_payment_updated = pd.concat([df_payment, df_nuevos_empleados], ignore_index=True)\n",
    "data_payment_updated"
   ]
  },
  {
   "cell_type": "code",
   "execution_count": null,
   "id": "0d12e9bc",
   "metadata": {},
   "outputs": [],
   "source": [
    "#COMBINACION DE DATAFRAMES POR COLUMNAS\n",
    "payroll = pd.concat([data_payment_updated, df_departure], axis=1)\n",
    "payroll\n"
   ]
  },
  {
   "cell_type": "code",
   "execution_count": null,
   "id": "46688742",
   "metadata": {},
   "outputs": [],
   "source": [
    "# COMBINACION DE DATAFRAMES POR FILAS CON JOIN\n",
    "payroll_join = pd.merge(\n",
    "    data_payment_updated,\n",
    "    df_departure,\n",
    "    on=\"Nombre\",\n",
    "    how=\"inner\"\n",
    ")\n",
    "payroll"
   ]
  },
  {
   "cell_type": "code",
   "execution_count": null,
   "id": "2c7a3935",
   "metadata": {},
   "outputs": [],
   "source": [
    "payroll_join = pd.merge(\n",
    "    data_payment_updated,\n",
    "    df_departure,\n",
    "    on=\"Nombre\",\n",
    "    how=\"outer\"\n",
    ")\n",
    "\n",
    "# Verifica y elimina columnas duplicadas si es necesario\n",
    "payroll_join = payroll_join.loc[:, ~payroll_join.columns.duplicated()]\n",
    "payroll_join\n"
   ]
  },
  {
   "cell_type": "code",
   "execution_count": null,
   "id": "639f14bf",
   "metadata": {},
   "outputs": [],
   "source": [
    "availiable_departments = df_departure['Departamento'].dropna().unique()\n",
    "availiable_shifts = df_departure['Turno'].dropna().unique()\n",
    "\n",
    "payroll_join['Departamento'] = payroll_join['Departamento'].apply(\n",
    "    lambda x: np.random.choice(availiable_departments) if pd.isna(x) else x\n",
    ")\n",
    "\n",
    "payroll_join['Turno'] = payroll_join['Turno'].apply(\n",
    "    lambda x: np.random.choice(availiable_shifts) if pd.isna(x) else x\n",
    ")\n",
    "\n",
    "os.makedirs(\"out_pandas\", exist_ok=True)\n",
    "\n",
    "payroll_join\n",
    "payroll_join.to_csv(\"out_pandas/registro_de_pago.csv\", index=False)\n",
    "payroll_join.to_excel(\"out_pandas/registro_de_pago.xlsx\", index=False)"
   ]
  },
  {
   "cell_type": "code",
   "execution_count": 5,
   "id": "f1ebdaab",
   "metadata": {},
   "outputs": [
    {
     "name": "stdout",
     "output_type": "stream",
     "text": [
      "Estadístico t: -12.006248373242993\n",
      "Valor p: 4.8079591665892255e-08\n"
     ]
    }
   ],
   "source": [
    "# %pip install scipy\n",
    "from scipy import stats\n",
    "\n",
    "# Ejemplo: prueba t para comparar la media de dos muestras independientes\n",
    "grupo1 = [20, 22, 23, 19, 21, 20, 22]\n",
    "grupo2 = [30, 29, 31, 32, 28, 30, 29]\n",
    "\n",
    "t_stat, p_value = stats.ttest_ind(grupo1, grupo2)\n",
    "\n",
    "print(\"Estadístico t:\", t_stat)\n",
    "print(\"Valor p:\", p_value)"
   ]
  }
 ],
 "metadata": {
  "kernelspec": {
   "display_name": ".venv",
   "language": "python",
   "name": "python3"
  },
  "language_info": {
   "codemirror_mode": {
    "name": "ipython",
    "version": 3
   },
   "file_extension": ".py",
   "mimetype": "text/x-python",
   "name": "python",
   "nbconvert_exporter": "python",
   "pygments_lexer": "ipython3",
   "version": "3.13.0"
  }
 },
 "nbformat": 4,
 "nbformat_minor": 5
}
