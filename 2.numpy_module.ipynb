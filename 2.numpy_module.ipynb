{
 "cells": [
  {
   "cell_type": "code",
   "execution_count": 17,
   "id": "b39ddf76",
   "metadata": {},
   "outputs": [],
   "source": [
    "# !pip freeze > requirements.txt"
   ]
  },
  {
   "cell_type": "markdown",
   "id": "ddbf7b58",
   "metadata": {},
   "source": [
    "**CAPITULO 12: INTRODUCCION A NUMPY**"
   ]
  },
  {
   "cell_type": "code",
   "execution_count": 18,
   "id": "cc5bd942",
   "metadata": {},
   "outputs": [],
   "source": [
    "import numpy as np"
   ]
  },
  {
   "cell_type": "code",
   "execution_count": 19,
   "id": "67674f9a",
   "metadata": {},
   "outputs": [
    {
     "name": "stdout",
     "output_type": "stream",
     "text": [
      "Arreglo 1D:  [ 1  2  3  4  5  6  7  8  9 10 11 12]\n",
      "Forma del arreglo 1D:  (12,)\n",
      "Tipo de dato del arreglo 1D:  int64\n",
      "Número de dimensiones del arreglo 1D:  1\n"
     ]
    }
   ],
   "source": [
    "#crear un arreglo de 1 dimension con 12 elementos\n",
    "arreglo_1d = np.array([1, 2, 3, 4, 5, 6, 7, 8, 9, 10, 11, 12])\n",
    "\n",
    "print(\"Arreglo 1D: \", arreglo_1d)\n",
    "print(\"Forma del arreglo 1D: \", arreglo_1d.shape)\n",
    "print(\"Tipo de dato del arreglo 1D: \", arreglo_1d.dtype)\n",
    "print(\"Número de dimensiones del arreglo 1D: \", arreglo_1d.ndim)"
   ]
  },
  {
   "cell_type": "code",
   "execution_count": 20,
   "id": "af58a70b",
   "metadata": {},
   "outputs": [
    {
     "name": "stdout",
     "output_type": "stream",
     "text": [
      "Arreglo 2D:\n",
      " [[ 1  2  3  4  5  6]\n",
      " [ 7  8  9 10 11 12]]\n",
      "Forma del arreglo 2D:  (2, 6)\n",
      "Tipo de dato del arreglo 2D:  int64\n",
      "Número de dimensiones del arreglo 2D:  2\n"
     ]
    }
   ],
   "source": [
    "#cambiar la forma del arreglo a una matriz de 2x6\n",
    "arreglo_2d = arreglo_1d.reshape((2, 6))\n",
    "print(\"Arreglo 2D:\\n\", arreglo_2d)\n",
    "print(\"Forma del arreglo 2D: \", arreglo_2d.shape)\n",
    "print(\"Tipo de dato del arreglo 2D: \", arreglo_2d.dtype)\n",
    "print(\"Número de dimensiones del arreglo 2D: \", arreglo_2d.ndim)"
   ]
  },
  {
   "cell_type": "code",
   "execution_count": 21,
   "id": "f6d18cb3",
   "metadata": {},
   "outputs": [
    {
     "name": "stdout",
     "output_type": "stream",
     "text": [
      "Arreglo aleatorio:\n",
      " [[0.94486592 0.21712825 0.5420237  0.45737034]\n",
      " [0.18857503 0.9551152  0.34686793 0.50365574]\n",
      " [0.93253755 0.74139375 0.86141809 0.79670264]\n",
      " [0.42647285 0.10772167 0.19486829 0.02720834]]\n",
      "Forma del arreglo aleatorio:  (4, 4)\n",
      "Tipo de dato del arreglo aleatorio:  float64\n",
      "Número de dimensiones del arreglo aleatorio:  2\n"
     ]
    }
   ],
   "source": [
    "#crear una matriz de 4x4 con valores aleatorios entre 0 y 1\n",
    "arreglo_aleatorio = np.random.rand(4, 4)\n",
    "print(\"Arreglo aleatorio:\\n\", arreglo_aleatorio)\n",
    "print(\"Forma del arreglo aleatorio: \", arreglo_aleatorio.shape)\n",
    "print(\"Tipo de dato del arreglo aleatorio: \", arreglo_aleatorio.dtype)\n",
    "print(\"Número de dimensiones del arreglo aleatorio: \", arreglo_aleatorio.ndim)"
   ]
  },
  {
   "cell_type": "markdown",
   "id": "250f05aa",
   "metadata": {},
   "source": [
    "**CAPITULO 13: MANIPULACION DE ARRAYS nDIMENSIONALES**"
   ]
  },
  {
   "cell_type": "code",
   "execution_count": 22,
   "id": "47b666ba",
   "metadata": {},
   "outputs": [
    {
     "name": "stdout",
     "output_type": "stream",
     "text": [
      "Arreglo 2D a partir de lista de listas:\n",
      " [[1 2 3]\n",
      " [4 5 6]\n",
      " [7 8 9]]\n",
      "Forma del arreglo 2D a partir de lista de listas:  (3, 3)\n",
      "Tipo de dato del arreglo 2D a partir de lista de listas:  int64\n"
     ]
    }
   ],
   "source": [
    "#CREA UN ARREGLO DE 2 DMIENSINES A PARTIR DE UNA LISTA DE LISTAS\n",
    "arreglo_2d_lista = np.array([[1, 2, 3], [4, 5, 6], [7, 8, 9]])\n",
    "print(\"Arreglo 2D a partir de lista de listas:\\n\", arreglo_2d_lista)\n",
    "print(\"Forma del arreglo 2D a partir de lista de listas: \", arreglo_2d_lista.shape)\n",
    "print(\"Tipo de dato del arreglo 2D a partir de lista de listas: \", arreglo_2d_lista.dtype)"
   ]
  },
  {
   "cell_type": "code",
   "execution_count": 23,
   "id": "5765355a",
   "metadata": {},
   "outputs": [
    {
     "name": "stdout",
     "output_type": "stream",
     "text": [
      "Arreglo de ceros:\n",
      " [[0. 0. 0. 0.]\n",
      " [0. 0. 0. 0.]\n",
      " [0. 0. 0. 0.]]\n",
      "Forma del arreglo de ceros:  (3, 4)\n",
      "Tipo de dato del arreglo de ceros:  float64\n",
      "Número de dimensiones del arreglo de ceros:  2\n"
     ]
    }
   ],
   "source": [
    "#crear un arreglo de ceros con forma 3x4\n",
    "arreglo_ceros = np.zeros((3, 4))\n",
    "print(\"Arreglo de ceros:\\n\", arreglo_ceros)\n",
    "print(\"Forma del arreglo de ceros: \", arreglo_ceros.shape)\n",
    "print(\"Tipo de dato del arreglo de ceros: \", arreglo_ceros.dtype)\n",
    "print(\"Número de dimensiones del arreglo de ceros: \", arreglo_ceros.ndim)\n"
   ]
  },
  {
   "cell_type": "code",
   "execution_count": 24,
   "id": "0da2a8c5",
   "metadata": {},
   "outputs": [
    {
     "name": "stdout",
     "output_type": "stream",
     "text": [
      "Arreglo de unos:\n",
      " [[1. 1.]\n",
      " [1. 1.]]\n",
      "Forma del arreglo de unos:  (2, 2)\n",
      "Tipo de dato del arreglo de unos:  float64\n",
      "Número de dimensiones del arreglo de unos:  2\n"
     ]
    }
   ],
   "source": [
    "#crear un arreglo de unos con forma 3x4\n",
    "arreglo_unos = np.ones((2, 2))\n",
    "print(\"Arreglo de unos:\\n\", arreglo_unos)\n",
    "print(\"Forma del arreglo de unos: \", arreglo_unos.shape)\n",
    "print(\"Tipo de dato del arreglo de unos: \", arreglo_unos.dtype)\n",
    "print(\"Número de dimensiones del arreglo de unos: \", arreglo_unos.ndim)\n"
   ]
  },
  {
   "cell_type": "code",
   "execution_count": 25,
   "id": "f135b46d",
   "metadata": {},
   "outputs": [
    {
     "name": "stdout",
     "output_type": "stream",
     "text": [
      "Arreglo de unos modificado:\n",
      " [[1. 1.]\n",
      " [1. 5.]]\n"
     ]
    }
   ],
   "source": [
    "arreglo_unos[1, 1] = 5\n",
    "print(\"Arreglo de unos modificado:\\n\", arreglo_unos)"
   ]
  },
  {
   "cell_type": "code",
   "execution_count": 26,
   "id": "f6432b0d",
   "metadata": {},
   "outputs": [
    {
     "name": "stdout",
     "output_type": "stream",
     "text": [
      "Arreglo identidad:\n",
      " [[1. 0. 0. 0. 0. 0.]\n",
      " [0. 1. 0. 0. 0. 0.]\n",
      " [0. 0. 1. 0. 0. 0.]\n",
      " [0. 0. 0. 1. 0. 0.]\n",
      " [0. 0. 0. 0. 1. 0.]\n",
      " [0. 0. 0. 0. 0. 1.]]\n",
      "Forma del arreglo identidad:  (6, 6)\n",
      "Tipo de dato del arreglo identidad:  float64\n",
      "Número de dimensiones del arreglo identidad:  2\n"
     ]
    }
   ],
   "source": [
    "#crear una matriz identidad de 3x3\n",
    "arreglo_identidad = np.eye(6)\n",
    "print(\"Arreglo identidad:\\n\", arreglo_identidad)\n",
    "print(\"Forma del arreglo identidad: \", arreglo_identidad.shape)\n",
    "print(\"Tipo de dato del arreglo identidad: \", arreglo_identidad.dtype)\n",
    "print(\"Número de dimensiones del arreglo identidad: \", arreglo_identidad.ndim)\n"
   ]
  },
  {
   "cell_type": "code",
   "execution_count": 27,
   "id": "efbefc55",
   "metadata": {},
   "outputs": [
    {
     "name": "stdout",
     "output_type": "stream",
     "text": [
      "Arreglo 3D de ceros:\n",
      " [[[0. 0. 0. 0.]\n",
      "  [0. 0. 0. 0.]\n",
      "  [0. 0. 0. 0.]]\n",
      "\n",
      " [[0. 0. 0. 0.]\n",
      "  [0. 0. 0. 0.]\n",
      "  [0. 0. 0. 0.]]]\n",
      "Forma del arreglo 3D de ceros:  (2, 3, 4)\n",
      "Tipo de dato del arreglo 3D de ceros:  float64\n",
      "Número de dimensiones del arreglo 3D de ceros:  3\n"
     ]
    }
   ],
   "source": [
    "#crear un arreglo 3d de ceros con forma 2x3x4\n",
    "arreglo_3d_ceros = np.zeros((2, 3, 4))\n",
    "print(\"Arreglo 3D de ceros:\\n\", arreglo_3d_ceros)\n",
    "print(\"Forma del arreglo 3D de ceros: \", arreglo_3d_ceros.shape)\n",
    "print(\"Tipo de dato del arreglo 3D de ceros: \", arreglo_3d_ceros.dtype)\n",
    "print(\"Número de dimensiones del arreglo 3D de ceros: \", arreglo_3d_ceros.ndim)"
   ]
  },
  {
   "cell_type": "code",
   "execution_count": 28,
   "id": "9d154c9b",
   "metadata": {},
   "outputs": [],
   "source": [
    "#generar dos arreglos aleatorios de 3x3\n",
    "# arreglo_aleatorio1 = np.random.rand(3, 3)\n",
    "# arreglo_aleatorio2 = np.random.rand(3, 3)\n",
    "arreglo_aleatorio1 = np.array([[1, 2, 3], [4, 5, 6], [7, 8, 9]])\n",
    "arreglo_aleatorio2 = np.array([[9, 8, 7], [6, 5, 4], [3, 2, 1]])"
   ]
  },
  {
   "cell_type": "code",
   "execution_count": 29,
   "id": "c21409b1",
   "metadata": {},
   "outputs": [
    {
     "name": "stdout",
     "output_type": "stream",
     "text": [
      "Concatenación horizontal de matrices:\n",
      " [[1 2 3 9 8 7]\n",
      " [4 5 6 6 5 4]\n",
      " [7 8 9 3 2 1]]\n"
     ]
    }
   ],
   "source": [
    "#concatenar dos arreglos distintos horizontalmente\n",
    "# arreglo_concatenar_h = np.concatenate((arreglo_aleatorio1, arreglo_aleatorio2), axis=1)\n",
    "arreglo_concatenar_h = np.hstack((arreglo_aleatorio1, arreglo_aleatorio2))\n",
    "print(\"Concatenación horizontal de matrices:\\n\", arreglo_concatenar_h)\n"
   ]
  },
  {
   "cell_type": "code",
   "execution_count": 30,
   "id": "1e3d5a81",
   "metadata": {},
   "outputs": [
    {
     "name": "stdout",
     "output_type": "stream",
     "text": [
      "Concatenación vertical de matrices:\n",
      " [[1 2 3]\n",
      " [4 5 6]\n",
      " [7 8 9]\n",
      " [9 8 7]\n",
      " [6 5 4]\n",
      " [3 2 1]]\n"
     ]
    }
   ],
   "source": [
    "#concatenar dos arreglos distintos verticalmente\n",
    "# arreglo_concatenar_v = np.concatenate((arreglo_aleatorio1, arreglo_aleatorio2), axis=0)\n",
    "arreglo_concatenar_v = np.vstack((arreglo_aleatorio1, arreglo_aleatorio2))\n",
    "print(\"Concatenación vertical de matrices:\\n\", arreglo_concatenar_v)\n"
   ]
  },
  {
   "cell_type": "markdown",
   "id": "2c0b145e",
   "metadata": {},
   "source": [
    "**CAPITULO 14: OPERACIONES MATEMATICAS**"
   ]
  },
  {
   "cell_type": "code",
   "execution_count": 31,
   "id": "f93ff14f",
   "metadata": {},
   "outputs": [
    {
     "name": "stdout",
     "output_type": "stream",
     "text": [
      "Arreglo original:\n",
      " [0 1 2 3 4 5 6 7 8 9]\n"
     ]
    }
   ],
   "source": [
    "dat = np.array([0, 1, 2, 3, 4, 5, 6, 7, 8, 9])\n",
    "print(\"Arreglo original:\\n\", dat)"
   ]
  },
  {
   "cell_type": "code",
   "execution_count": 32,
   "id": "e96f6483",
   "metadata": {},
   "outputs": [
    {
     "name": "stdout",
     "output_type": "stream",
     "text": [
      "Suma de elementos del arreglo:\n",
      " 45\n",
      "Suma acumulada de elementos del arreglo:\n",
      " [ 0  1  3  6 10 15 21 28 36 45]\n",
      "Suma elemento a elemento de elementos del arreglo:\n",
      " [ 0  2  4  6  8 10 12 14 16 18]\n",
      "Resta elemento a elemento de elementos del arreglo:\n",
      " [0 0 0 0 0 0 0 0 0 0]\n",
      "Promedio de elementos del arreglo:\n",
      " 4.5\n",
      "Mediana de elementos del arreglo:\n",
      " 4.5\n",
      "Producto de elementos del arreglo:\n",
      " 0\n",
      "Varianza de elementos del arreglo:\n",
      " 8.25\n",
      "Desviación estándar de elementos del arreglo:\n",
      " 2.8722813232690143\n",
      "Máximo de elementos del arreglo:\n",
      " 9\n",
      "Mínimo de elementos del arreglo:\n",
      " 0\n",
      "Índice del máximo elemento del arreglo:\n",
      " 9\n"
     ]
    }
   ],
   "source": [
    "#suma\n",
    "suma = np.sum(dat)\n",
    "print(\"Suma de elementos del arreglo:\\n\", suma)\n",
    "#suma acumulada\n",
    "suma_acumulada = np.cumsum(dat)\n",
    "print(\"Suma acumulada de elementos del arreglo:\\n\", suma_acumulada)\n",
    "#suma elemento a elemento\n",
    "suma_elemento_a_elemento = np.add(dat, dat)\n",
    "print(\"Suma elemento a elemento de elementos del arreglo:\\n\", suma_elemento_a_elemento)\n",
    "#resta elemento a elemento\n",
    "resta_elemento_a_elemento = np.subtract(dat, dat)\n",
    "print(\"Resta elemento a elemento de elementos del arreglo:\\n\", resta_elemento_a_elemento)\n",
    "#promedio\n",
    "promedio = np.mean(dat)\n",
    "print(\"Promedio de elementos del arreglo:\\n\", promedio)\n",
    "#mediana\n",
    "mediana = np.median(dat)\n",
    "print(\"Mediana de elementos del arreglo:\\n\", mediana)\n",
    "#producto\n",
    "producto = np.prod(dat)\n",
    "print(\"Producto de elementos del arreglo:\\n\", producto)\n",
    "#varianza\n",
    "varianza = np.var(dat)\n",
    "print(\"Varianza de elementos del arreglo:\\n\", varianza)\n",
    "#desviacion estandar\n",
    "desviacion_estandar = np.std(dat)\n",
    "print(\"Desviación estándar de elementos del arreglo:\\n\", desviacion_estandar)\n",
    "#maximo\n",
    "maximo = np.max(dat)\n",
    "print(\"Máximo de elementos del arreglo:\\n\", maximo)\n",
    "#minimo\n",
    "minimo = np.min(dat)\n",
    "print(\"Mínimo de elementos del arreglo:\\n\", minimo)\n",
    "#indice maximo\n",
    "indice_maximo = np.argmax(dat)\n",
    "print(\"Índice del máximo elemento del arreglo:\\n\", indice_maximo)\n"
   ]
  }
 ],
 "metadata": {
  "kernelspec": {
   "display_name": ".venv",
   "language": "python",
   "name": "python3"
  },
  "language_info": {
   "codemirror_mode": {
    "name": "ipython",
    "version": 3
   },
   "file_extension": ".py",
   "mimetype": "text/x-python",
   "name": "python",
   "nbconvert_exporter": "python",
   "pygments_lexer": "ipython3",
   "version": "3.13.0"
  }
 },
 "nbformat": 4,
 "nbformat_minor": 5
}
