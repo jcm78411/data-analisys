{
 "cells": [
  {
   "cell_type": "code",
   "execution_count": null,
   "id": "b39ddf76",
   "metadata": {},
   "outputs": [],
   "source": [
    "# !pip freeze > requirements.txt"
   ]
  },
  {
   "cell_type": "markdown",
   "id": "ddbf7b58",
   "metadata": {},
   "source": [
    "**VIDEO 12: INTRODUCCION A NUMPY**"
   ]
  },
  {
   "cell_type": "code",
   "execution_count": null,
   "id": "cc5bd942",
   "metadata": {},
   "outputs": [],
   "source": [
    "import numpy as np"
   ]
  },
  {
   "cell_type": "code",
   "execution_count": null,
   "id": "67674f9a",
   "metadata": {},
   "outputs": [],
   "source": [
    "#crear un arreglo de 1 dimension con 12 elementos\n",
    "arreglo_1d = np.array([1, 2, 3, 4, 5, 6, 7, 8, 9, 10, 11, 12])\n",
    "\n",
    "print(\"Arreglo 1D: \", arreglo_1d)\n",
    "print(\"Forma del arreglo 1D: \", arreglo_1d.shape)\n",
    "print(\"Tipo de dato del arreglo 1D: \", arreglo_1d.dtype)\n",
    "print(\"Número de dimensiones del arreglo 1D: \", arreglo_1d.ndim)"
   ]
  },
  {
   "cell_type": "code",
   "execution_count": null,
   "id": "af58a70b",
   "metadata": {},
   "outputs": [],
   "source": [
    "#cambiar la forma del arreglo a una matriz de 2x6\n",
    "arreglo_2d = arreglo_1d.reshape((2, 6))\n",
    "print(\"Arreglo 2D:\\n\", arreglo_2d)\n",
    "print(\"Forma del arreglo 2D: \", arreglo_2d.shape)\n",
    "print(\"Tipo de dato del arreglo 2D: \", arreglo_2d.dtype)\n",
    "print(\"Número de dimensiones del arreglo 2D: \", arreglo_2d.ndim)"
   ]
  },
  {
   "cell_type": "code",
   "execution_count": null,
   "id": "f6d18cb3",
   "metadata": {},
   "outputs": [],
   "source": [
    "#crear una matriz de 4x4 con valores aleatorios entre 0 y 1\n",
    "arreglo_aleatorio = np.random.rand(4, 4)\n",
    "print(\"Arreglo aleatorio:\\n\", arreglo_aleatorio)\n",
    "print(\"Forma del arreglo aleatorio: \", arreglo_aleatorio.shape)\n",
    "print(\"Tipo de dato del arreglo aleatorio: \", arreglo_aleatorio.dtype)\n",
    "print(\"Número de dimensiones del arreglo aleatorio: \", arreglo_aleatorio.ndim)"
   ]
  },
  {
   "cell_type": "markdown",
   "id": "250f05aa",
   "metadata": {},
   "source": [
    "**VIDEO 13: MANIPULACION DE ARRAYS nDIMENSIONALES**"
   ]
  },
  {
   "cell_type": "code",
   "execution_count": null,
   "id": "47b666ba",
   "metadata": {},
   "outputs": [],
   "source": [
    "#CREA UN ARREGLO DE 2 DMIENSINES A PARTIR DE UNA LISTA DE LISTAS\n",
    "arreglo_2d_lista = np.array([[1, 2, 3], [4, 5, 6], [7, 8, 9]])\n",
    "print(\"Arreglo 2D a partir de lista de listas:\\n\", arreglo_2d_lista)\n",
    "print(\"Forma del arreglo 2D a partir de lista de listas: \", arreglo_2d_lista.shape)\n",
    "print(\"Tipo de dato del arreglo 2D a partir de lista de listas: \", arreglo_2d_lista.dtype)"
   ]
  },
  {
   "cell_type": "code",
   "execution_count": null,
   "id": "5765355a",
   "metadata": {},
   "outputs": [],
   "source": [
    "#crear un arreglo de ceros con forma 3x4\n",
    "arreglo_ceros = np.zeros((3, 4))\n",
    "print(\"Arreglo de ceros:\\n\", arreglo_ceros)\n",
    "print(\"Forma del arreglo de ceros: \", arreglo_ceros.shape)\n",
    "print(\"Tipo de dato del arreglo de ceros: \", arreglo_ceros.dtype)\n",
    "print(\"Número de dimensiones del arreglo de ceros: \", arreglo_ceros.ndim)\n"
   ]
  },
  {
   "cell_type": "code",
   "execution_count": null,
   "id": "0da2a8c5",
   "metadata": {},
   "outputs": [],
   "source": [
    "#crear un arreglo de unos con forma 3x4\n",
    "arreglo_unos = np.ones((2, 2))\n",
    "print(\"Arreglo de unos:\\n\", arreglo_unos)\n",
    "print(\"Forma del arreglo de unos: \", arreglo_unos.shape)\n",
    "print(\"Tipo de dato del arreglo de unos: \", arreglo_unos.dtype)\n",
    "print(\"Número de dimensiones del arreglo de unos: \", arreglo_unos.ndim)\n"
   ]
  },
  {
   "cell_type": "code",
   "execution_count": null,
   "id": "f135b46d",
   "metadata": {},
   "outputs": [],
   "source": [
    "arreglo_unos[1, 1] = 5\n",
    "print(\"Arreglo de unos modificado:\\n\", arreglo_unos)"
   ]
  },
  {
   "cell_type": "code",
   "execution_count": null,
   "id": "f6432b0d",
   "metadata": {},
   "outputs": [],
   "source": [
    "#crear una matriz identidad de 3x3\n",
    "arreglo_identidad = np.eye(6)\n",
    "print(\"Arreglo identidad:\\n\", arreglo_identidad)\n",
    "print(\"Forma del arreglo identidad: \", arreglo_identidad.shape)\n",
    "print(\"Tipo de dato del arreglo identidad: \", arreglo_identidad.dtype)\n",
    "print(\"Número de dimensiones del arreglo identidad: \", arreglo_identidad.ndim)\n"
   ]
  },
  {
   "cell_type": "code",
   "execution_count": null,
   "id": "efbefc55",
   "metadata": {},
   "outputs": [],
   "source": [
    "#crear un arreglo 3d de ceros con forma 2x3x4\n",
    "arreglo_3d_ceros = np.zeros((2, 3, 4))\n",
    "print(\"Arreglo 3D de ceros:\\n\", arreglo_3d_ceros)\n",
    "print(\"Forma del arreglo 3D de ceros: \", arreglo_3d_ceros.shape)\n",
    "print(\"Tipo de dato del arreglo 3D de ceros: \", arreglo_3d_ceros.dtype)\n",
    "print(\"Número de dimensiones del arreglo 3D de ceros: \", arreglo_3d_ceros.ndim)"
   ]
  },
  {
   "cell_type": "code",
   "execution_count": null,
   "id": "9d154c9b",
   "metadata": {},
   "outputs": [],
   "source": [
    "#generar dos arreglos aleatorios de 3x3\n",
    "# arreglo_aleatorio1 = np.random.rand(3, 3)\n",
    "# arreglo_aleatorio2 = np.random.rand(3, 3)\n",
    "arreglo_aleatorio1 = np.array([[1, 2, 3], [4, 5, 6], [7, 8, 9]])\n",
    "arreglo_aleatorio2 = np.array([[9, 8, 7], [6, 5, 4], [3, 2, 1]])"
   ]
  },
  {
   "cell_type": "code",
   "execution_count": null,
   "id": "c21409b1",
   "metadata": {},
   "outputs": [],
   "source": [
    "#concatenar dos arreglos distintos horizontalmente\n",
    "# arreglo_concatenar_h = np.concatenate((arreglo_aleatorio1, arreglo_aleatorio2), axis=1)\n",
    "arreglo_concatenar_h = np.hstack((arreglo_aleatorio1, arreglo_aleatorio2))\n",
    "print(\"Concatenación horizontal de matrices:\\n\", arreglo_concatenar_h)\n"
   ]
  },
  {
   "cell_type": "code",
   "execution_count": null,
   "id": "1e3d5a81",
   "metadata": {},
   "outputs": [],
   "source": [
    "#concatenar dos arreglos distintos verticalmente\n",
    "# arreglo_concatenar_v = np.concatenate((arreglo_aleatorio1, arreglo_aleatorio2), axis=0)\n",
    "arreglo_concatenar_v = np.vstack((arreglo_aleatorio1, arreglo_aleatorio2))\n",
    "print(\"Concatenación vertical de matrices:\\n\", arreglo_concatenar_v)\n"
   ]
  },
  {
   "cell_type": "markdown",
   "id": "2c0b145e",
   "metadata": {},
   "source": [
    "**VIDEO 14: OPERACIONES MATEMATICAS**"
   ]
  },
  {
   "cell_type": "code",
   "execution_count": null,
   "id": "f93ff14f",
   "metadata": {},
   "outputs": [],
   "source": [
    "dat = np.array([0, 1, 2, 3, 4, 5, 6, 7, 8, 9])\n",
    "print(\"Arreglo original:\\n\", dat)"
   ]
  },
  {
   "cell_type": "code",
   "execution_count": null,
   "id": "e96f6483",
   "metadata": {},
   "outputs": [],
   "source": [
    "#suma\n",
    "suma = np.sum(dat)\n",
    "print(\"Suma de elementos del arreglo:\\n\", suma)\n",
    "#suma acumulada\n",
    "suma_acumulada = np.cumsum(dat)\n",
    "print(\"Suma acumulada de elementos del arreglo:\\n\", suma_acumulada)\n",
    "#suma elemento a elemento\n",
    "suma_elemento_a_elemento = np.add(dat, dat)\n",
    "print(\"Suma elemento a elemento de elementos del arreglo:\\n\", suma_elemento_a_elemento)\n",
    "#resta elemento a elemento\n",
    "resta_elemento_a_elemento = np.subtract(dat, dat)\n",
    "print(\"Resta elemento a elemento de elementos del arreglo:\\n\", resta_elemento_a_elemento)\n",
    "#promedio\n",
    "promedio = np.mean(dat)\n",
    "print(\"Promedio de elementos del arreglo:\\n\", promedio)\n",
    "#mediana\n",
    "mediana = np.median(dat)\n",
    "print(\"Mediana de elementos del arreglo:\\n\", mediana)\n",
    "#producto\n",
    "producto = np.prod(dat)\n",
    "print(\"Producto de elementos del arreglo:\\n\", producto)\n",
    "#varianza\n",
    "varianza = np.var(dat)\n",
    "print(\"Varianza de elementos del arreglo:\\n\", varianza)\n",
    "#desviacion estandar\n",
    "desviacion_estandar = np.std(dat)\n",
    "print(\"Desviación estándar de elementos del arreglo:\\n\", desviacion_estandar)\n",
    "#maximo\n",
    "maximo = np.max(dat)\n",
    "print(\"Máximo de elementos del arreglo:\\n\", maximo)\n",
    "#minimo\n",
    "minimo = np.min(dat)\n",
    "print(\"Mínimo de elementos del arreglo:\\n\", minimo)\n",
    "#indice maximo\n",
    "indice_maximo = np.argmax(dat)\n",
    "print(\"Índice del máximo elemento del arreglo:\\n\", indice_maximo)\n"
   ]
  }
 ],
 "metadata": {
  "kernelspec": {
   "display_name": ".venv",
   "language": "python",
   "name": "python3"
  },
  "language_info": {
   "codemirror_mode": {
    "name": "ipython",
    "version": 3
   },
   "file_extension": ".py",
   "mimetype": "text/x-python",
   "name": "python",
   "nbconvert_exporter": "python",
   "pygments_lexer": "ipython3",
   "version": "3.13.0"
  }
 },
 "nbformat": 4,
 "nbformat_minor": 5
}
