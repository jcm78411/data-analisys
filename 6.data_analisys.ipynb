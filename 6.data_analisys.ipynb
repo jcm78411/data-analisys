{
 "cells": [
  {
   "cell_type": "code",
   "execution_count": null,
   "id": "4b399746",
   "metadata": {},
   "outputs": [],
   "source": [
    "# !pip freeze > requirements.txt"
   ]
  },
  {
   "cell_type": "markdown",
   "id": "6d02688d",
   "metadata": {},
   "source": [
    "**VIDEO 20: ANALISIS EXPLORATORIO UNIVARIADO**"
   ]
  },
  {
   "cell_type": "code",
   "execution_count": null,
   "id": "95f7f7f5",
   "metadata": {},
   "outputs": [],
   "source": [
    "import seaborn as sns\n",
    "import pandas as pd\n",
    "import numpy as np\n",
    "import matplotlib.pyplot as plt\n",
    "\n",
    "sns.set_style(\"whitegrid\")\n",
    "# df = pd.read_csv(\"https://raw.githubusercontent.com/mwaskom/seaborn-data/master/titanic.csv\")"
   ]
  },
  {
   "cell_type": "code",
   "execution_count": null,
   "id": "d850558d",
   "metadata": {},
   "outputs": [],
   "source": [
    "df = pd.read_csv(\"titanic.csv\")\n",
    "df.head(5)"
   ]
  },
  {
   "cell_type": "code",
   "execution_count": null,
   "id": "7189746f",
   "metadata": {},
   "outputs": [],
   "source": [
    "df.info()"
   ]
  },
  {
   "cell_type": "code",
   "execution_count": null,
   "id": "49d2285b",
   "metadata": {},
   "outputs": [],
   "source": [
    "df.describe()"
   ]
  },
  {
   "cell_type": "code",
   "execution_count": null,
   "id": "de6d281d",
   "metadata": {},
   "outputs": [],
   "source": [
    "#Analisis univariado\n",
    "sns.histplot(data=df, x=\"sibsp\", kde=True)\n",
    "plt.show()"
   ]
  },
  {
   "cell_type": "code",
   "execution_count": null,
   "id": "2940f7ae",
   "metadata": {},
   "outputs": [],
   "source": [
    "palette = sns.color_palette(\"coolwarm\", n_colors=3)\n",
    "\n",
    "sns.boxplot(x='sibsp', data=df, hue='who', palette=palette, legend=False)\n",
    "plt.show()"
   ]
  },
  {
   "cell_type": "code",
   "execution_count": null,
   "id": "a45f5a31",
   "metadata": {},
   "outputs": [],
   "source": [
    "palette = sns.color_palette(\"coolwarm\", n_colors=3)\n",
    "sns.kdeplot(data=df, x=\"sibsp\", hue=\"who\", fill=True, palette=palette)\n",
    "plt.show()"
   ]
  },
  {
   "cell_type": "markdown",
   "id": "10996cb2",
   "metadata": {},
   "source": [
    "**VIDEO 21: ANALISIS EXPLORATORIO BIVARIADO Y MULTIVARIADO**"
   ]
  },
  {
   "cell_type": "code",
   "execution_count": null,
   "id": "076be7ef",
   "metadata": {},
   "outputs": [],
   "source": [
    "sns.scatterplot(data=df, x=\"sibsp\", y=\"embark_town\", hue=\"who\", palette=palette)\n",
    "plt.show()"
   ]
  },
  {
   "cell_type": "code",
   "execution_count": null,
   "id": "9b23371b",
   "metadata": {},
   "outputs": [],
   "source": [
    "palette = sns.color_palette(\"coolwarm\", n_colors=7)\n",
    "sns.barplot(data=df, x=\"sibsp\", y=\"embark_town\", hue=\"sibsp\", palette=palette)\n",
    "plt.show()"
   ]
  },
  {
   "cell_type": "code",
   "execution_count": null,
   "id": "3623375e",
   "metadata": {},
   "outputs": [],
   "source": [
    "sns.boxplot(x='sibsp', y='embark_town', data=df, hue='sibsp', palette=palette, legend=False)\n",
    "plt.show()"
   ]
  },
  {
   "cell_type": "markdown",
   "id": "4254f823",
   "metadata": {},
   "source": [
    "**analisis multivariado**"
   ]
  },
  {
   "cell_type": "code",
   "execution_count": null,
   "id": "362c60da",
   "metadata": {},
   "outputs": [],
   "source": [
    "# sns.pairplot(df, hue=\"cut\", palette=palette)"
   ]
  },
  {
   "cell_type": "markdown",
   "id": "00b68eea",
   "metadata": {},
   "source": [
    "**VIDEO 22: CASO PRACTICO**"
   ]
  },
  {
   "cell_type": "code",
   "execution_count": null,
   "id": "735f1295",
   "metadata": {},
   "outputs": [],
   "source": [
    "#grafico de barras de edad promedio por clase\n",
    "palette = sns.color_palette(\"icefire\", n_colors=3)\n",
    "sns.barplot(data=df, x=\"class\", y=\"age\", hue=\"class\", palette=palette, legend=False)\n",
    "plt.title(\"Edad promedio por clase\")\n",
    "plt.show()\n"
   ]
  },
  {
   "cell_type": "code",
   "execution_count": null,
   "id": "2f7ae98b",
   "metadata": {},
   "outputs": [],
   "source": [
    "#grafico de barras de clase promedio por adultez\n",
    "palette = sns.color_palette(\"icefire\", n_colors=3)\n",
    "sns.barplot(data=df, x=\"class\", y=\"adult_male\", hue=\"class\", palette=palette, legend=False, errorbar=None)\n",
    "plt.title(\"Clase promedio por adultez\")\n",
    "plt.show()\n"
   ]
  },
  {
   "cell_type": "code",
   "execution_count": null,
   "id": "97058c42",
   "metadata": {},
   "outputs": [],
   "source": [
    "#grafico de barras de sobrevivientes promedio por puerto de embarque\n",
    "palette = sns.color_palette(\"icefire\", n_colors=3)\n",
    "sns.barplot(data=df, x=\"embark_town\", y=\"survived\", hue=\"embark_town\", palette=palette, legend=False, errorbar=None)\n",
    "plt.title(\"Sobrevivientes promedio por puerto de embarque\")\n",
    "plt.show()\n"
   ]
  },
  {
   "cell_type": "code",
   "execution_count": null,
   "id": "69b7c1b1",
   "metadata": {},
   "outputs": [],
   "source": [
    "#grafico promedio de tarifa por sexo y edad\n",
    "palette = sns.color_palette(\"icefire\", n_colors=88)\n",
    "sns.barplot(data=df, x=\"sex\", y=\"fare\", hue=\"age\", palette=palette, legend=False, errorbar=None)\n",
    "plt.title(\"Tarifa promedio por sexo y edad\")\n",
    "plt.show()"
   ]
  },
  {
   "cell_type": "code",
   "execution_count": null,
   "id": "a97e58e0",
   "metadata": {},
   "outputs": [],
   "source": [
    "#grafico de barras de sobrevivientes promedio por cubierta y si estaba solo\n",
    "palette = sns.color_palette(\"icefire\", n_colors=2)\n",
    "sns.barplot(data=df, x=\"deck\", y=\"survived\", hue=\"alone\", palette=palette, legend=False, errorbar=None)\n",
    "plt.title(\"Sobrevivientes promedio por cubierta y si estaba solo\")\n",
    "plt.show()"
   ]
  },
  {
   "cell_type": "markdown",
   "id": "d932ab03",
   "metadata": {},
   "source": [
    "**VIDEO 23: CONTINUANDO CON UN CASO PRACTICO**"
   ]
  },
  {
   "cell_type": "code",
   "execution_count": null,
   "id": "4927bff7",
   "metadata": {},
   "outputs": [],
   "source": [
    "# Cargar dataset iris\n",
    "iris = sns.load_dataset('iris')\n",
    "\n",
    "# 1. Univariado: Histograma y boxplot de largo de sépalo\n",
    "plt.figure(figsize=(12,5))\n",
    "plt.subplot(1,2,1)\n",
    "sns.histplot(iris['sepal_length'], kde=True, color='skyblue')\n",
    "plt.title('Histograma de Sepal Length')\n",
    "\n",
    "plt.subplot(1,2,2)\n",
    "sns.boxplot(x=iris['sepal_length'], color='lightgreen')\n",
    "plt.title('Boxplot de Sepal Length')\n",
    "plt.show()\n",
    "\n",
    "# 2. Bivariado: Scatterplot largo vs ancho de sépalo\n",
    "sns.scatterplot(data=iris, x='sepal_length', y='sepal_width', hue='species')\n",
    "plt.title('Sepal Length vs Sepal Width por especie')\n",
    "plt.show()\n",
    "\n",
    "# 3. Multivariado: Pairplot completo\n",
    "sns.pairplot(iris, hue='species', diag_kind='kde')\n",
    "plt.suptitle('Pairplot del dataset Iris', y=1.02)\n",
    "plt.show()\n"
   ]
  },
  {
   "cell_type": "code",
   "execution_count": null,
   "id": "4046779a",
   "metadata": {},
   "outputs": [],
   "source": [
    "titanic = sns.load_dataset('titanic')\n",
    "\n",
    "# Univariado\n",
    "plt.figure(figsize=(12,5))\n",
    "plt.subplot(1,2,1)\n",
    "sns.histplot(titanic['age'], bins=30, kde=True, color='coral')\n",
    "plt.title('Distribución de Edad')\n",
    "\n",
    "plt.subplot(1,2,2)\n",
    "sns.countplot(x='class', data=titanic)\n",
    "plt.title('Conteo de Pasajeros por Clase')\n",
    "plt.show()\n",
    "\n",
    "# Bivariado\n",
    "sns.barplot(x='class', y='survived', data=titanic)\n",
    "plt.title('Proporción de Sobrevivientes por Clase')\n",
    "plt.show()\n",
    "\n",
    "# Multivariado\n",
    "sns.boxplot(x='survived', y='fare', data=titanic)\n",
    "plt.title('Tarifa pagada según sobrevivencia')\n",
    "plt.show()\n",
    "\n",
    "# Heatmap corregido\n",
    "corr = titanic.corr(numeric_only=True)\n",
    "sns.heatmap(corr, annot=True, cmap='coolwarm')\n",
    "plt.title('Mapa de calor de correlación Titanic')\n",
    "plt.show()\n"
   ]
  },
  {
   "cell_type": "code",
   "execution_count": null,
   "id": "ef95f714",
   "metadata": {},
   "outputs": [],
   "source": [
    "# Cargar dataset\n",
    "titanic = sns.load_dataset('titanic')\n",
    "\n",
    "# 1. Eliminar columnas con demasiados nulos o irrelevantes\n",
    "titanic.drop(columns=['deck', 'alive', 'class', 'who'], inplace=True)\n",
    "\n",
    "# 2. Rellenar valores nulos\n",
    "titanic['age'].fillna(titanic['age'].median(), inplace=True)\n",
    "titanic['embarked'].fillna(titanic['embarked'].mode()[0], inplace=True)\n",
    "titanic['embark_town'].fillna(titanic['embark_town'].mode()[0], inplace=True)\n",
    "\n",
    "# 3. Verificar que ya no haya valores nulos\n",
    "print(titanic.isnull().sum())\n",
    "\n",
    "# 4. Mostrar estructura final\n",
    "print(titanic.info())"
   ]
  }
 ],
 "metadata": {
  "kernelspec": {
   "display_name": ".venv",
   "language": "python",
   "name": "python3"
  },
  "language_info": {
   "codemirror_mode": {
    "name": "ipython",
    "version": 3
   },
   "file_extension": ".py",
   "mimetype": "text/x-python",
   "name": "python",
   "nbconvert_exporter": "python",
   "pygments_lexer": "ipython3",
   "version": "3.13.0"
  }
 },
 "nbformat": 4,
 "nbformat_minor": 5
}
