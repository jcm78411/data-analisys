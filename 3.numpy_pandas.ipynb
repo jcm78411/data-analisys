{
 "cells": [
  {
   "cell_type": "code",
   "execution_count": 9,
   "id": "2a519dd3",
   "metadata": {},
   "outputs": [],
   "source": [
    "# !pip freeze > requirements.txt"
   ]
  },
  {
   "cell_type": "markdown",
   "id": "af6a7bf5",
   "metadata": {},
   "source": [
    "**VIDEO 15: INTEGRACION DE NUMPY CON PANDAS**"
   ]
  },
  {
   "cell_type": "code",
   "execution_count": 10,
   "id": "29d42930",
   "metadata": {},
   "outputs": [],
   "source": [
    "import numpy as np\n",
    "import pandas as pd"
   ]
  },
  {
   "cell_type": "code",
   "execution_count": 11,
   "id": "a50543b2",
   "metadata": {},
   "outputs": [
    {
     "name": "stdout",
     "output_type": "stream",
     "text": [
      "DataFrame:\n"
     ]
    },
    {
     "data": {
      "text/html": [
       "<div>\n",
       "<style scoped>\n",
       "    .dataframe tbody tr th:only-of-type {\n",
       "        vertical-align: middle;\n",
       "    }\n",
       "\n",
       "    .dataframe tbody tr th {\n",
       "        vertical-align: top;\n",
       "    }\n",
       "\n",
       "    .dataframe thead th {\n",
       "        text-align: right;\n",
       "    }\n",
       "</style>\n",
       "<table border=\"1\" class=\"dataframe\">\n",
       "  <thead>\n",
       "    <tr style=\"text-align: right;\">\n",
       "      <th></th>\n",
       "      <th>Col1</th>\n",
       "      <th>Col2</th>\n",
       "      <th>Col3</th>\n",
       "      <th>Col4</th>\n",
       "    </tr>\n",
       "  </thead>\n",
       "  <tbody>\n",
       "    <tr>\n",
       "      <th>0</th>\n",
       "      <td>12</td>\n",
       "      <td>45</td>\n",
       "      <td>78</td>\n",
       "      <td>23</td>\n",
       "    </tr>\n",
       "    <tr>\n",
       "      <th>1</th>\n",
       "      <td>34</td>\n",
       "      <td>67</td>\n",
       "      <td>89</td>\n",
       "      <td>10</td>\n",
       "    </tr>\n",
       "    <tr>\n",
       "      <th>2</th>\n",
       "      <td>56</td>\n",
       "      <td>32</td>\n",
       "      <td>14</td>\n",
       "      <td>90</td>\n",
       "    </tr>\n",
       "    <tr>\n",
       "      <th>3</th>\n",
       "      <td>88</td>\n",
       "      <td>21</td>\n",
       "      <td>37</td>\n",
       "      <td>65</td>\n",
       "    </tr>\n",
       "  </tbody>\n",
       "</table>\n",
       "</div>"
      ],
      "text/plain": [
       "   Col1  Col2  Col3  Col4\n",
       "0    12    45    78    23\n",
       "1    34    67    89    10\n",
       "2    56    32    14    90\n",
       "3    88    21    37    65"
      ]
     },
     "execution_count": 11,
     "metadata": {},
     "output_type": "execute_result"
    }
   ],
   "source": [
    "data = np.array([[12, 45, 78, 23], [34, 67, 89, 10], [56, 32, 14, 90], [88, 21, 37, 65]])\n",
    "df = pd.DataFrame(data, columns=[\"Col1\", \"Col2\", \"Col3\", \"Col4\"])\n",
    "print(\"DataFrame:\")\n",
    "df"
   ]
  },
  {
   "cell_type": "code",
   "execution_count": 12,
   "id": "6ccb6913",
   "metadata": {},
   "outputs": [
    {
     "name": "stdout",
     "output_type": "stream",
     "text": [
      "\n",
      "DataFrame with custom index:\n"
     ]
    },
    {
     "data": {
      "text/html": [
       "<div>\n",
       "<style scoped>\n",
       "    .dataframe tbody tr th:only-of-type {\n",
       "        vertical-align: middle;\n",
       "    }\n",
       "\n",
       "    .dataframe tbody tr th {\n",
       "        vertical-align: top;\n",
       "    }\n",
       "\n",
       "    .dataframe thead th {\n",
       "        text-align: right;\n",
       "    }\n",
       "</style>\n",
       "<table border=\"1\" class=\"dataframe\">\n",
       "  <thead>\n",
       "    <tr style=\"text-align: right;\">\n",
       "      <th></th>\n",
       "      <th>W</th>\n",
       "      <th>X</th>\n",
       "      <th>Y</th>\n",
       "      <th>Z</th>\n",
       "    </tr>\n",
       "  </thead>\n",
       "  <tbody>\n",
       "    <tr>\n",
       "      <th>A</th>\n",
       "      <td>21</td>\n",
       "      <td>54</td>\n",
       "      <td>87</td>\n",
       "      <td>32</td>\n",
       "    </tr>\n",
       "    <tr>\n",
       "      <th>B</th>\n",
       "      <td>43</td>\n",
       "      <td>76</td>\n",
       "      <td>98</td>\n",
       "      <td>22</td>\n",
       "    </tr>\n",
       "    <tr>\n",
       "      <th>C</th>\n",
       "      <td>65</td>\n",
       "      <td>23</td>\n",
       "      <td>41</td>\n",
       "      <td>80</td>\n",
       "    </tr>\n",
       "    <tr>\n",
       "      <th>D</th>\n",
       "      <td>88</td>\n",
       "      <td>12</td>\n",
       "      <td>73</td>\n",
       "      <td>56</td>\n",
       "    </tr>\n",
       "  </tbody>\n",
       "</table>\n",
       "</div>"
      ],
      "text/plain": [
       "    W   X   Y   Z\n",
       "A  21  54  87  32\n",
       "B  43  76  98  22\n",
       "C  65  23  41  80\n",
       "D  88  12  73  56"
      ]
     },
     "execution_count": 12,
     "metadata": {},
     "output_type": "execute_result"
    }
   ],
   "source": [
    "data = {\n",
    "    \"W\": [21, 43, 65, 88],\n",
    "    \"X\": [54, 76, 23, 12],\n",
    "    \"Y\": [87, 98, 41, 73],\n",
    "    \"Z\": [32, 22, 80, 56]\n",
    "}\n",
    "df2 = pd.DataFrame(data, index=[\"A\", \"B\", \"C\", \"D\"])\n",
    "print(\"\\nDataFrame with custom index:\")\n",
    "df2"
   ]
  },
  {
   "cell_type": "code",
   "execution_count": 13,
   "id": "d41d3de0",
   "metadata": {},
   "outputs": [
    {
     "name": "stdout",
     "output_type": "stream",
     "text": [
      "\n",
      "Converted to NumPy array:\n",
      "[[12 45 78 23]\n",
      " [34 67 89 10]\n",
      " [56 32 14 90]\n",
      " [88 21 37 65]]\n"
     ]
    }
   ],
   "source": [
    "array = df.to_numpy()\n",
    "print(\"\\nConverted to NumPy array:\")\n",
    "print(array)"
   ]
  },
  {
   "cell_type": "code",
   "execution_count": 14,
   "id": "89fcbac5",
   "metadata": {},
   "outputs": [
    {
     "data": {
      "text/plain": [
       "array([[12, 45, 78, 23],\n",
       "       [34, 67, 89, 10],\n",
       "       [56, 32, 14, 90],\n",
       "       [88, 21, 37, 65]])"
      ]
     },
     "execution_count": 14,
     "metadata": {},
     "output_type": "execute_result"
    }
   ],
   "source": [
    "df.values"
   ]
  },
  {
   "cell_type": "code",
   "execution_count": 15,
   "id": "f253af05",
   "metadata": {},
   "outputs": [
    {
     "name": "stdout",
     "output_type": "stream",
     "text": [
      "\n",
      "Mean of each column (pandas):\n",
      "Col1    47.50\n",
      "Col2    41.25\n",
      "Col3    54.50\n",
      "Col4    47.00\n",
      "dtype: float64\n",
      "\n",
      "Mean of each column (numpy):\n",
      "Col1    47.50\n",
      "Col2    41.25\n",
      "Col3    54.50\n",
      "Col4    47.00\n",
      "dtype: float64\n"
     ]
    }
   ],
   "source": [
    "#calcular el promedio de cada columna usando numpy\n",
    "mean = np.mean(df, axis=0)\n",
    "print(\"\\nMean of each column (pandas):\")\n",
    "print(df.mean())\n",
    "print(\"\\nMean of each column (numpy):\")\n",
    "print(mean)"
   ]
  },
  {
   "cell_type": "code",
   "execution_count": 16,
   "id": "23036bc6",
   "metadata": {},
   "outputs": [
    {
     "name": "stdout",
     "output_type": "stream",
     "text": [
      "\n",
      "Mean of each row (pandas):\n",
      "0    39.50\n",
      "1    50.00\n",
      "2    48.00\n",
      "3    52.75\n",
      "dtype: float64\n",
      "\n",
      "Mean of each row (numpy):\n",
      "0    39.50\n",
      "1    50.00\n",
      "2    48.00\n",
      "3    52.75\n",
      "dtype: float64\n"
     ]
    }
   ],
   "source": [
    "#calcular el promedio de cada fila usando numpy\n",
    "mean_row = np.mean(df, axis=1)\n",
    "print(\"\\nMean of each row (pandas):\")\n",
    "print(df.mean(axis=1))\n",
    "print(\"\\nMean of each row (numpy):\")\n",
    "print(mean_row)"
   ]
  },
  {
   "cell_type": "code",
   "execution_count": null,
   "id": "b9488478",
   "metadata": {},
   "outputs": [],
   "source": []
  }
 ],
 "metadata": {
  "kernelspec": {
   "display_name": ".venv",
   "language": "python",
   "name": "python3"
  },
  "language_info": {
   "codemirror_mode": {
    "name": "ipython",
    "version": 3
   },
   "file_extension": ".py",
   "mimetype": "text/x-python",
   "name": "python",
   "nbconvert_exporter": "python",
   "pygments_lexer": "ipython3",
   "version": "3.13.0"
  }
 },
 "nbformat": 4,
 "nbformat_minor": 5
}
