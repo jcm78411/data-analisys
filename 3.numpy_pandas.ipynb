{
 "cells": [
  {
   "cell_type": "code",
   "execution_count": null,
   "id": "2a519dd3",
   "metadata": {},
   "outputs": [],
   "source": [
    "# !pip freeze > requirements.txt"
   ]
  },
  {
   "cell_type": "markdown",
   "id": "af6a7bf5",
   "metadata": {},
   "source": [
    "**VIDEO 15: INTEGRACION DE NUMPY CON PANDAS**"
   ]
  },
  {
   "cell_type": "code",
   "execution_count": null,
   "id": "29d42930",
   "metadata": {},
   "outputs": [],
   "source": [
    "import numpy as np\n",
    "import pandas as pd"
   ]
  },
  {
   "cell_type": "code",
   "execution_count": null,
   "id": "a50543b2",
   "metadata": {},
   "outputs": [],
   "source": [
    "data = np.array([[12, 45, 78, 23], [34, 67, 89, 10], [56, 32, 14, 90], [88, 21, 37, 65]])\n",
    "df = pd.DataFrame(data, columns=[\"Col1\", \"Col2\", \"Col3\", \"Col4\"])\n",
    "print(\"DataFrame:\")\n",
    "df"
   ]
  },
  {
   "cell_type": "code",
   "execution_count": null,
   "id": "6ccb6913",
   "metadata": {},
   "outputs": [],
   "source": [
    "data = {\n",
    "    \"W\": [21, 43, 65, 88],\n",
    "    \"X\": [54, 76, 23, 12],\n",
    "    \"Y\": [87, 98, 41, 73],\n",
    "    \"Z\": [32, 22, 80, 56]\n",
    "}\n",
    "df2 = pd.DataFrame(data, index=[\"A\", \"B\", \"C\", \"D\"])\n",
    "print(\"\\nDataFrame with custom index:\")\n",
    "df2"
   ]
  },
  {
   "cell_type": "code",
   "execution_count": null,
   "id": "d41d3de0",
   "metadata": {},
   "outputs": [],
   "source": [
    "array = df.to_numpy()\n",
    "print(\"\\nConverted to NumPy array:\")\n",
    "print(array)"
   ]
  },
  {
   "cell_type": "code",
   "execution_count": null,
   "id": "89fcbac5",
   "metadata": {},
   "outputs": [],
   "source": [
    "df.values"
   ]
  },
  {
   "cell_type": "code",
   "execution_count": null,
   "id": "f253af05",
   "metadata": {},
   "outputs": [],
   "source": [
    "#calcular el promedio de cada columna usando numpy\n",
    "mean = np.mean(df, axis=0)\n",
    "print(\"\\nMean of each column (pandas):\")\n",
    "print(df.mean())\n",
    "print(\"\\nMean of each column (numpy):\")\n",
    "print(mean)"
   ]
  },
  {
   "cell_type": "code",
   "execution_count": null,
   "id": "23036bc6",
   "metadata": {},
   "outputs": [],
   "source": [
    "#calcular el promedio de cada fila usando numpy\n",
    "mean_row = np.mean(df, axis=1)\n",
    "print(\"\\nMean of each row (pandas):\")\n",
    "print(df.mean(axis=1))\n",
    "print(\"\\nMean of each row (numpy):\")\n",
    "print(mean_row)"
   ]
  },
  {
   "cell_type": "code",
   "execution_count": null,
   "id": "b9488478",
   "metadata": {},
   "outputs": [],
   "source": []
  }
 ],
 "metadata": {
  "kernelspec": {
   "display_name": ".venv",
   "language": "python",
   "name": "python3"
  },
  "language_info": {
   "codemirror_mode": {
    "name": "ipython",
    "version": 3
   },
   "file_extension": ".py",
   "mimetype": "text/x-python",
   "name": "python",
   "nbconvert_exporter": "python",
   "pygments_lexer": "ipython3",
   "version": "3.13.0"
  }
 },
 "nbformat": 4,
 "nbformat_minor": 5
}
