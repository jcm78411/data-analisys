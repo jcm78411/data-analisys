{
 "cells": [
  {
   "cell_type": "code",
   "execution_count": null,
   "id": "9059d94a",
   "metadata": {},
   "outputs": [],
   "source": [
    "# !pip freeze > requirements.txt"
   ]
  },
  {
   "cell_type": "markdown",
   "id": "73c9588e",
   "metadata": {},
   "source": [
    "**VIDEO 16: INTRODUCCION A MATPLOTLIB**"
   ]
  },
  {
   "cell_type": "code",
   "execution_count": null,
   "id": "8a090c57",
   "metadata": {},
   "outputs": [],
   "source": [
    "import matplotlib.pyplot as plt"
   ]
  },
  {
   "cell_type": "code",
   "execution_count": null,
   "id": "8a3fa180",
   "metadata": {},
   "outputs": [],
   "source": [
    "x = [1, 2, 3, 4, 5]\n",
    "y = [10, 15, 20, 25, 30]\n",
    "\n",
    "plt.figure(figsize=(6, 5))\n",
    "plt.plot(x, y)\n",
    "plt.title(\"Gráfica de línea simple\")\n",
    "plt.xlabel(\"Eje X\")\n",
    "plt.ylabel(\"Eje Y\")\n",
    "plt.show()\n"
   ]
  },
  {
   "cell_type": "code",
   "execution_count": null,
   "id": "ced1176d",
   "metadata": {},
   "outputs": [],
   "source": [
    "#añade un graficado de dispersión\n",
    "plt.figure(figsize=(6, 5))\n",
    "plt.scatter(x, y)\n",
    "plt.title(\"Gráfica de dispersión\")\n",
    "plt.xlabel(\"Eje X\")\n",
    "plt.ylabel(\"Eje Y\")\n",
    "plt.show()\n"
   ]
  },
  {
   "cell_type": "code",
   "execution_count": null,
   "id": "87c95cad",
   "metadata": {},
   "outputs": [],
   "source": [
    "#añade un graficado de barras\n",
    "plt.figure(figsize=(6, 5))\n",
    "plt.bar(x, y)\n",
    "plt.title(\"Gráfica de barras\")\n",
    "plt.xlabel(\"Eje X\")\n",
    "plt.ylabel(\"Eje Y\")\n",
    "plt.show()"
   ]
  },
  {
   "cell_type": "code",
   "execution_count": null,
   "id": "a1d4b423",
   "metadata": {},
   "outputs": [],
   "source": [
    "#añade un graficado de histograma\n",
    "plt.figure(figsize=(6, 5))\n",
    "plt.hist(y, bins=5)\n",
    "plt.title(\"Histograma\")\n",
    "plt.xlabel(\"Valores\")\n",
    "plt.ylabel(\"Frecuencia\")\n",
    "plt.show()"
   ]
  },
  {
   "cell_type": "code",
   "execution_count": null,
   "id": "7824ae2c",
   "metadata": {},
   "outputs": [],
   "source": [
    "#añade un graficado de pastel\n",
    "plt.figure(figsize=(6, 5))\n",
    "plt.pie(y, labels=x, autopct='%1.1f%%')\n",
    "plt.title(\"Gráfica de pastel\")\n",
    "plt.show()"
   ]
  },
  {
   "cell_type": "markdown",
   "id": "1fe37685",
   "metadata": {},
   "source": [
    "**VIDEO 17: CREACION Y PERSONALIZACION DE GRAFICOS**"
   ]
  },
  {
   "cell_type": "code",
   "execution_count": null,
   "id": "cd5c110a",
   "metadata": {},
   "outputs": [],
   "source": [
    "plt.style.available"
   ]
  },
  {
   "cell_type": "code",
   "execution_count": null,
   "id": "fabf8ae7",
   "metadata": {},
   "outputs": [],
   "source": [
    "# Graficar la parábola en 2d\n",
    "# plt.style.use('Solarize_Light2')\n",
    "# x_vals = [-10, -9, -8, -7, -6, -5, -4, -3, -2, -1, 0, 1, 2, 3, 4, 5, 6, 7, 8, 9, 10]\n",
    "x_vals = range(-15, 16)\n",
    "\n",
    "plt.figure(figsize=(7, 5))\n",
    "# plt.plot(x_vals, [x**2 for x in x_vals], label='$y = x^2$', color='blue', linestyle='--', marker='o')\n",
    "plt.plot(x_vals, [x**2 for x in x_vals], label='$y = x^2$')\n",
    "plt.title(\"Parábola en 2D\")\n",
    "plt.xlabel(\"Eje X\")\n",
    "plt.ylabel(\"Eje Y\")\n",
    "plt.axhline(0, color='black', linewidth=0.5, ls='--')\n",
    "plt.axvline(0, color='black', linewidth=0.5, ls='--')\n",
    "plt.grid()\n",
    "plt.legend()\n",
    "plt.show()"
   ]
  },
  {
   "cell_type": "code",
   "execution_count": null,
   "id": "f40ec050",
   "metadata": {},
   "outputs": [],
   "source": []
  }
 ],
 "metadata": {
  "kernelspec": {
   "display_name": ".venv",
   "language": "python",
   "name": "python3"
  },
  "language_info": {
   "codemirror_mode": {
    "name": "ipython",
    "version": 3
   },
   "file_extension": ".py",
   "mimetype": "text/x-python",
   "name": "python",
   "nbconvert_exporter": "python",
   "pygments_lexer": "ipython3",
   "version": "3.13.0"
  }
 },
 "nbformat": 4,
 "nbformat_minor": 5
}
